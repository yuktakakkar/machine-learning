{
 "cells": [
  {
   "cell_type": "code",
   "execution_count": 1,
   "metadata": {},
   "outputs": [],
   "source": [
    "import re\n",
    "from sklearn.linear_model import LinearRegression\n",
    "from sklearn.linear_model import LogisticRegression\n",
    "from sklearn.model_selection import train_test_split\n",
    "import matplotlib.pyplot as plt\n",
    "import seaborn as sns\n",
    "import pandas as pd\n",
    "import numpy as np"
   ]
  },
  {
   "cell_type": "code",
   "execution_count": 2,
   "metadata": {},
   "outputs": [
    {
     "name": "stdout",
     "output_type": "stream",
     "text": [
      "    Age Cabin Embarked     Fare  \\\n",
      "0  22.0   NaN        S   7.2500   \n",
      "1  38.0   C85        C  71.2833   \n",
      "2  26.0   NaN        S   7.9250   \n",
      "3  35.0  C123        S  53.1000   \n",
      "4  35.0   NaN        S   8.0500   \n",
      "\n",
      "                                                Name  Parch  PassengerId  \\\n",
      "0                            Braund, Mr. Owen Harris      0            1   \n",
      "1  Cumings, Mrs. John Bradley (Florence Briggs Th...      0            2   \n",
      "2                             Heikkinen, Miss. Laina      0            3   \n",
      "3       Futrelle, Mrs. Jacques Heath (Lily May Peel)      0            4   \n",
      "4                           Allen, Mr. William Henry      0            5   \n",
      "\n",
      "   Pclass     Sex  SibSp  Survived            Ticket  \n",
      "0       3    male      1       0.0         A/5 21171  \n",
      "1       1  female      1       1.0          PC 17599  \n",
      "2       3  female      0       1.0  STON/O2. 3101282  \n",
      "3       1  female      1       1.0            113803  \n",
      "4       3    male      0       0.0            373450  \n"
     ]
    },
    {
     "name": "stderr",
     "output_type": "stream",
     "text": [
      "C:\\Users\\kakkaryukta\\Anaconda2\\lib\\site-packages\\ipykernel_launcher.py:5: FutureWarning: Sorting because non-concatenation axis is not aligned. A future version\n",
      "of pandas will change to not sort by default.\n",
      "\n",
      "To accept the future behavior, pass 'sort=True'.\n",
      "\n",
      "To retain the current behavior and silence the warning, pass sort=False\n",
      "\n",
      "  \"\"\"\n"
     ]
    }
   ],
   "source": [
    "#Q1. Import the required libraries. Import datasets. Concatenate the datasets. Display first 5 rows. \n",
    "data_train = pd.read_csv(\"https://raw.githubusercontent.com/Shreyas3108/Titanic-EDA-and-Survival-prediction/master/train.csv\")\n",
    "data_test = pd.read_csv(\"https://raw.githubusercontent.com/Shreyas3108/Titanic-EDA-and-Survival-prediction/master/test.csv\")\n",
    "data = [data_train, data_test]\n",
    "data = pd.concat(data)\n",
    "print(data.head())"
   ]
  },
  {
   "cell_type": "code",
   "execution_count": 3,
   "metadata": {},
   "outputs": [
    {
     "name": "stdout",
     "output_type": "stream",
     "text": [
      "    Age Cabin Embarked     Fare  \\\n",
      "0  22.0   NaN        S   7.2500   \n",
      "1  38.0   C85        C  71.2833   \n",
      "2  26.0   NaN        S   7.9250   \n",
      "3  35.0  C123        S  53.1000   \n",
      "4  35.0   NaN        S   8.0500   \n",
      "\n",
      "                                                Name  Parch  PassengerId  \\\n",
      "0                            Braund, Mr. Owen Harris      0            1   \n",
      "1  Cumings, Mrs. John Bradley (Florence Briggs Th...      0            2   \n",
      "2                             Heikkinen, Miss. Laina      0            3   \n",
      "3       Futrelle, Mrs. Jacques Heath (Lily May Peel)      0            4   \n",
      "4                           Allen, Mr. William Henry      0            5   \n",
      "\n",
      "   Pclass     Sex  SibSp  Survived            Ticket  \n",
      "0       3    male      1       0.0         A/5 21171  \n",
      "1       1  female      1       1.0          PC 17599  \n",
      "2       3  female      0       1.0  STON/O2. 3101282  \n",
      "3       1  female      1       1.0            113803  \n",
      "4       3    male      0       0.0            373450  \n"
     ]
    }
   ],
   "source": [
    "#Q2. Remove NaN values from the column ‘Survived’.\n",
    "data.dropna(subset = ['Survived'],inplace=True)\n",
    "print(data.head())"
   ]
  },
  {
   "cell_type": "code",
   "execution_count": 4,
   "metadata": {},
   "outputs": [
    {
     "name": "stdout",
     "output_type": "stream",
     "text": [
      "0       No\n",
      "1      Yes\n",
      "2       No\n",
      "3      Yes\n",
      "4       No\n",
      "5       No\n",
      "6      Yes\n",
      "7       No\n",
      "8       No\n",
      "9       No\n",
      "10     Yes\n",
      "11     Yes\n",
      "12      No\n",
      "13      No\n",
      "14      No\n",
      "15      No\n",
      "16      No\n",
      "17      No\n",
      "18      No\n",
      "19      No\n",
      "20      No\n",
      "21     Yes\n",
      "22      No\n",
      "23     Yes\n",
      "24      No\n",
      "25      No\n",
      "26      No\n",
      "27     Yes\n",
      "28      No\n",
      "29      No\n",
      "      ... \n",
      "861     No\n",
      "862    Yes\n",
      "863     No\n",
      "864     No\n",
      "865     No\n",
      "866     No\n",
      "867    Yes\n",
      "868     No\n",
      "869     No\n",
      "870     No\n",
      "871    Yes\n",
      "872    Yes\n",
      "873     No\n",
      "874     No\n",
      "875     No\n",
      "876     No\n",
      "877     No\n",
      "878     No\n",
      "879    Yes\n",
      "880     No\n",
      "881     No\n",
      "882     No\n",
      "883     No\n",
      "884     No\n",
      "885     No\n",
      "886     No\n",
      "887    Yes\n",
      "888     No\n",
      "889    Yes\n",
      "890     No\n",
      "Name: Has_Cabin, Length: 891, dtype: object\n"
     ]
    }
   ],
   "source": [
    "#Q3. Create a new column 'Has_Cabin' that tells you whether passengers had a cabin or not. \n",
    "data['Has_Cabin'] = np.where(data['Cabin'].isnull(),'No','Yes')\n",
    "print(data['Has_Cabin'])"
   ]
  },
  {
   "cell_type": "code",
   "execution_count": 5,
   "metadata": {},
   "outputs": [
    {
     "name": "stdout",
     "output_type": "stream",
     "text": [
      "Mrs        647\n",
      "Miss       180\n",
      "Master      40\n",
      "Special     24\n",
      "Name: Title, dtype: int64\n"
     ]
    }
   ],
   "source": [
    "\n",
    "# Q4. Create a new column “Title”, which will contain the titles of the passengers such as Mr., Mrs., etc. \n",
    "#    There should be five titles: Mr, Mrs, Master, Miss, and Special. \n",
    "\n",
    "def add_title(name):\n",
    "    title1=re.compile(r'Mr')\n",
    "    title2=re.compile(r'Mrs')\n",
    "    title3=re.compile(r'Miss')\n",
    "    title4=re.compile(r'Master')\n",
    "    for i in range(0,891):\n",
    "        str=name[i].split(',')\n",
    "        if(title1.search(str[1])):\n",
    "            name[i]='Mrs'\n",
    "        elif(title2.search(str[1])):\n",
    "            name[i]='Mr'\n",
    "        elif(title3.search(str[1])):\n",
    "            name[i]='Miss'\n",
    "        elif(title4.search(str[1])):\n",
    "            name[i]='Master'\n",
    "        else:\n",
    "            name[i]='Special'\n",
    "               \n",
    "data['Title']=data['Name']\n",
    "np.apply_along_axis(add_title,0,data['Title'])\n",
    "print(data['Title'].value_counts())"
   ]
  },
  {
   "cell_type": "code",
   "execution_count": 6,
   "metadata": {},
   "outputs": [
    {
     "name": "stdout",
     "output_type": "stream",
     "text": [
      "Age              0\n",
      "Cabin          687\n",
      "Embarked         2\n",
      "Fare             0\n",
      "Name             0\n",
      "Parch            0\n",
      "PassengerId      0\n",
      "Pclass           0\n",
      "Sex              0\n",
      "SibSp            0\n",
      "Survived         0\n",
      "Ticket           0\n",
      "Has_Cabin        0\n",
      "Title            0\n",
      "dtype: int64\n"
     ]
    }
   ],
   "source": [
    "#Q5. Impute the missing values using .fillna() method.\n",
    "data=data.fillna(data.median())\n",
    "print(data.isnull().sum())"
   ]
  },
  {
   "cell_type": "code",
   "execution_count": 7,
   "metadata": {},
   "outputs": [
    {
     "name": "stdout",
     "output_type": "stream",
     "text": [
      "    Age Cabin Embarked     Fare  \\\n",
      "0  22.0   NaN        S   7.2500   \n",
      "1  38.0   C85        C  71.2833   \n",
      "2  26.0   NaN        S   7.9250   \n",
      "3  35.0  C123        S  53.1000   \n",
      "4  35.0   NaN        S   8.0500   \n",
      "\n",
      "                                                Name  Parch  PassengerId  \\\n",
      "0                            Braund, Mr. Owen Harris      0            1   \n",
      "1  Cumings, Mrs. John Bradley (Florence Briggs Th...      0            2   \n",
      "2                             Heikkinen, Miss. Laina      0            3   \n",
      "3       Futrelle, Mrs. Jacques Heath (Lily May Peel)      0            4   \n",
      "4                           Allen, Mr. William Henry      0            5   \n",
      "\n",
      "   Pclass     Sex  SibSp  Survived            Ticket Has_Cabin Title  \\\n",
      "0       3    male      1       0.0         A/5 21171        No   Mrs   \n",
      "1       1  female      1       1.0          PC 17599       Yes   Mrs   \n",
      "2       3  female      0       1.0  STON/O2. 3101282        No  Miss   \n",
      "3       1  female      1       1.0            113803       Yes   Mrs   \n",
      "4       3    male      0       0.0            373450        No   Mrs   \n",
      "\n",
      "  Categorical_age Categorical_fare  \n",
      "0               A                P  \n",
      "1               D                S  \n",
      "2               B                Q  \n",
      "3               C                S  \n",
      "4               C                Q  \n"
     ]
    }
   ],
   "source": [
    "#Q6. Create two new columns “Categorical_age” and “Categorical_fare”, where you will put people that are\n",
    "#    within a certain range of age or fare in the same bin. \n",
    "data[\"Categorical_age\"]=pd.qcut(data.Age,q=4,labels=['A','B','C','D'])\n",
    "data[\"Categorical_fare\"]=pd.qcut(data.Fare,q=4,labels=['P','Q','R','S'])\n",
    "print(data.head())"
   ]
  },
  {
   "cell_type": "code",
   "execution_count": 8,
   "metadata": {},
   "outputs": [
    {
     "name": "stdout",
     "output_type": "stream",
     "text": [
      "  Embarked  Pclass     Sex  Survived Has_Cabin Title Categorical_age  \\\n",
      "0        S       3    male       0.0        No   Mrs               A   \n",
      "1        C       1  female       1.0       Yes   Mrs               D   \n",
      "2        S       3  female       1.0        No  Miss               B   \n",
      "3        S       1  female       1.0       Yes   Mrs               C   \n",
      "4        S       3    male       0.0        No   Mrs               C   \n",
      "\n",
      "  Categorical_fare  \n",
      "0                P  \n",
      "1                S  \n",
      "2                Q  \n",
      "3                S  \n",
      "4                Q  \n"
     ]
    }
   ],
   "source": [
    "#Q7. Drop columns Cabin, Name, Passengerid, Ticket, Age, Fare, SibSp, Parch. \n",
    "data=data.drop(labels=['Cabin','Name','Parch','PassengerId','Ticket','Age','Fare','SibSp'],axis=1)\n",
    "print(data.head())"
   ]
  },
  {
   "cell_type": "code",
   "execution_count": 9,
   "metadata": {},
   "outputs": [
    {
     "name": "stdout",
     "output_type": "stream",
     "text": [
      "   Pclass  Survived  Embarked_C  Embarked_Q  Embarked_S  Sex_female  Sex_male  \\\n",
      "0       3       0.0           0           0           1           0         1   \n",
      "1       1       1.0           1           0           0           1         0   \n",
      "2       3       1.0           0           0           1           1         0   \n",
      "3       1       1.0           0           0           1           1         0   \n",
      "4       3       0.0           0           0           1           0         1   \n",
      "\n",
      "   Has_Cabin_No  Has_Cabin_Yes  Title_Master         ...          Title_Mrs  \\\n",
      "0             1              0             0         ...                  1   \n",
      "1             0              1             0         ...                  1   \n",
      "2             1              0             0         ...                  0   \n",
      "3             0              1             0         ...                  1   \n",
      "4             1              0             0         ...                  1   \n",
      "\n",
      "   Title_Special  Categorical_age_A  Categorical_age_B  Categorical_age_C  \\\n",
      "0              0                  1                  0                  0   \n",
      "1              0                  0                  0                  0   \n",
      "2              0                  0                  1                  0   \n",
      "3              0                  0                  0                  1   \n",
      "4              0                  0                  0                  1   \n",
      "\n",
      "   Categorical_age_D  Categorical_fare_P  Categorical_fare_Q  \\\n",
      "0                  0                   1                   0   \n",
      "1                  1                   0                   0   \n",
      "2                  0                   0                   1   \n",
      "3                  0                   0                   0   \n",
      "4                  0                   0                   1   \n",
      "\n",
      "   Categorical_fare_R  Categorical_fare_S  \n",
      "0                   0                   0  \n",
      "1                   0                   1  \n",
      "2                   0                   0  \n",
      "3                   0                   1  \n",
      "4                   0                   0  \n",
      "\n",
      "[5 rows x 21 columns]\n"
     ]
    }
   ],
   "source": [
    "#Q8. Transform all variables into numeric ones using get_dummies(). \n",
    "data = pd.get_dummies(data)\n",
    "print(data.head())"
   ]
  },
  {
   "cell_type": "code",
   "execution_count": 10,
   "metadata": {},
   "outputs": [
    {
     "name": "stdout",
     "output_type": "stream",
     "text": [
      "(623, 20)\n",
      "(623L,)\n",
      "(268, 20)\n",
      "(268L,)\n"
     ]
    }
   ],
   "source": [
    "#Q9. Use train_test_split() to split your dataset.\n",
    "#    X(Features) will be the dataset values without the column “Survived” and y(Targets) will be your “Survived” column values. \n",
    "\n",
    "X = data.drop([\"Survived\"],axis = 1)\n",
    "Y=data[\"Survived\"]\n",
    "X_train,X_test,Y_train,Y_test = train_test_split(X,Y,test_size = 0.3)\n",
    "print(X_train.shape)\n",
    "print(Y_train.shape)\n",
    "print(X_test.shape)\n",
    "print(Y_test.shape)"
   ]
  },
  {
   "cell_type": "code",
   "execution_count": 11,
   "metadata": {},
   "outputs": [
    {
     "name": "stdout",
     "output_type": "stream",
     "text": [
      "     Actual  Predicted\n",
      "523     1.0        1.0\n",
      "143     0.0        0.0\n",
      "194     1.0        1.0\n",
      "653     1.0        1.0\n",
      "486     1.0        1.0\n",
      "882     0.0        1.0\n",
      "409     0.0        0.0\n",
      "286     1.0        0.0\n",
      "28      1.0        1.0\n",
      "667     0.0        0.0\n",
      "738     0.0        0.0\n",
      "608     1.0        1.0\n",
      "660     1.0        0.0\n",
      "659     0.0        0.0\n",
      "283     1.0        0.0\n",
      "795     0.0        0.0\n",
      "744     1.0        0.0\n",
      "602     0.0        0.0\n",
      "32      1.0        1.0\n",
      "755     1.0        1.0\n",
      "335     0.0        0.0\n",
      "241     1.0        1.0\n",
      "54      0.0        0.0\n",
      "41      0.0        1.0\n",
      "575     0.0        0.0\n",
      "707     1.0        0.0\n",
      "593     0.0        1.0\n",
      "25      1.0        0.0\n",
      "152     0.0        0.0\n",
      "786     1.0        1.0\n",
      "..      ...        ...\n",
      "122     0.0        0.0\n",
      "583     0.0        0.0\n",
      "785     0.0        0.0\n",
      "874     1.0        1.0\n",
      "315     1.0        0.0\n",
      "301     1.0        0.0\n",
      "142     1.0        0.0\n",
      "424     0.0        0.0\n",
      "81      1.0        0.0\n",
      "5       0.0        0.0\n",
      "436     0.0        0.0\n",
      "589     0.0        0.0\n",
      "568     0.0        0.0\n",
      "200     0.0        0.0\n",
      "9       1.0        1.0\n",
      "546     1.0        1.0\n",
      "559     1.0        0.0\n",
      "830     1.0        1.0\n",
      "62      0.0        0.0\n",
      "619     0.0        0.0\n",
      "260     0.0        0.0\n",
      "889     1.0        1.0\n",
      "348     1.0        0.0\n",
      "130     0.0        0.0\n",
      "550     1.0        1.0\n",
      "614     0.0        0.0\n",
      "864     0.0        0.0\n",
      "91      0.0        0.0\n",
      "502     0.0        1.0\n",
      "263     0.0        0.0\n",
      "\n",
      "[268 rows x 2 columns]\n"
     ]
    }
   ],
   "source": [
    "#Q10. Use logistic regression by passing your X_train and y_train. \n",
    "reg  =  LogisticRegression()\n",
    "reg.fit(X_train,Y_train)\n",
    "pred = reg.predict(X_test)\n",
    "result = pd.DataFrame({\"Predicted\":pred,\"Actual\":Y_test})\n",
    "print(result)"
   ]
  },
  {
   "cell_type": "code",
   "execution_count": 12,
   "metadata": {},
   "outputs": [
    {
     "name": "stdout",
     "output_type": "stream",
     "text": [
      "0.8208955223880597\n"
     ]
    }
   ],
   "source": [
    "#Q11. Print the accuracy score. \n",
    "print(reg.score(X_test,Y_test))"
   ]
  },
  {
   "cell_type": "code",
   "execution_count": null,
   "metadata": {},
   "outputs": [],
   "source": []
  }
 ],
 "metadata": {
  "kernelspec": {
   "display_name": "Python 2",
   "language": "python",
   "name": "python2"
  },
  "language_info": {
   "codemirror_mode": {
    "name": "ipython",
    "version": 2
   },
   "file_extension": ".py",
   "mimetype": "text/x-python",
   "name": "python",
   "nbconvert_exporter": "python",
   "pygments_lexer": "ipython2",
   "version": "2.7.15"
  }
 },
 "nbformat": 4,
 "nbformat_minor": 2
}
