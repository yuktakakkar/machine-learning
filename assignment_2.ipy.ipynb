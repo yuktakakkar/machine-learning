{
 "cells": [
  {
   "cell_type": "code",
   "execution_count": 19,
   "metadata": {},
   "outputs": [
    {
     "name": "stdout",
     "output_type": "stream",
     "text": [
      "[[0.59112656]\n",
      " [0.42993269]\n",
      " [0.66869353]\n",
      " [0.38484557]\n",
      " [0.51882205]\n",
      " [0.20953443]\n",
      " [0.07052012]\n",
      " [0.76983408]\n",
      " [0.63271677]\n",
      " [0.30941742]]\n"
     ]
    },
    {
     "data": {
      "text/plain": [
       "0.4585443220594515"
      ]
     },
     "execution_count": 19,
     "metadata": {},
     "output_type": "execute_result"
    }
   ],
   "source": [
    "#Create a numpy array with 10 elements of the shape(10,1) using np.random and find out the mean of the elements using basic numpy functions.\n",
    "\n",
    "array = np.random.rand(10,1);\n",
    "print(array);\n",
    "\n",
    "np.mean(array)"
   ]
  },
  {
   "cell_type": "code",
   "execution_count": 25,
   "metadata": {},
   "outputs": [
    {
     "name": "stdout",
     "output_type": "stream",
     "text": [
      "[[0.11511091]\n",
      " [0.62295947]\n",
      " [0.45016676]\n",
      " [0.78463388]\n",
      " [0.21656154]\n",
      " [0.31410428]\n",
      " [0.20383843]\n",
      " [0.50834525]\n",
      " [0.63699594]\n",
      " [0.15749442]\n",
      " [0.7294833 ]\n",
      " [0.94027734]\n",
      " [0.31608645]\n",
      " [0.85895358]\n",
      " [0.10397375]\n",
      " [0.02121713]\n",
      " [0.58920874]\n",
      " [0.34033319]\n",
      " [0.12414343]\n",
      " [0.39465235]]\n"
     ]
    }
   ],
   "source": [
    "#Create a numpy array with 20 elements of the shape(20,1) using np.random find the variance and standard deviation of the elements.\n",
    "\n",
    "array1 = np.random.rand(20,1)\n",
    "print(array1)"
   ]
  },
  {
   "cell_type": "code",
   "execution_count": 26,
   "metadata": {
    "scrolled": true
   },
   "outputs": [
    {
     "data": {
      "text/plain": [
       "0.07215521906641698"
      ]
     },
     "execution_count": 26,
     "metadata": {},
     "output_type": "execute_result"
    }
   ],
   "source": [
    "np.var(array1)"
   ]
  },
  {
   "cell_type": "code",
   "execution_count": 27,
   "metadata": {},
   "outputs": [
    {
     "data": {
      "text/plain": [
       "0.2686172352370878"
      ]
     },
     "execution_count": 27,
     "metadata": {},
     "output_type": "execute_result"
    }
   ],
   "source": [
    "np.std(array1)"
   ]
  },
  {
   "cell_type": "code",
   "execution_count": 13,
   "metadata": {},
   "outputs": [
    {
     "name": "stdout",
     "output_type": "stream",
     "text": [
      "[[6.07530987 4.91123312 6.14427939 4.66540392 6.3602423  6.51142875\n",
      "  7.26140796 5.24794393 6.88924109 7.61462358 5.39426586 6.99858818\n",
      "  5.95441491 5.09966108 6.6307064  5.91318337 6.26160858 6.65118177\n",
      "  6.16353807 5.89318909 7.52201108 5.04994317 6.54651887 5.69532693\n",
      "  7.39835517]\n",
      " [3.43960666 3.5975414  3.71261679 3.08287147 4.81602817 3.60140554\n",
      "  4.53145295 3.31448117 4.08579448 4.78971197 3.66213751 4.9590835\n",
      "  4.09420774 3.94040394 4.37661091 3.52066932 3.45299128 3.16207229\n",
      "  3.70644345 4.18266968 4.38282592 3.60884988 3.89983831 4.15159048\n",
      "  4.80451368]\n",
      " [4.88179839 4.80149507 5.3382542  3.83431096 5.55013823 5.44164235\n",
      "  6.21410928 4.62458181 5.66063043 6.59068599 5.07998512 5.37567779\n",
      "  5.45351202 5.08060062 5.52048397 4.35817087 5.16930111 5.65361112\n",
      "  5.28400709 5.28322288 6.3715775  4.2818121  5.83444013 5.34475103\n",
      "  6.28495084]\n",
      " [6.0505408  6.12463826 7.36206845 4.81768269 7.04358436 6.63191161\n",
      "  7.64359834 5.39531401 7.03405189 8.56027774 5.92902002 6.99800385\n",
      "  6.84950399 6.47693639 6.40732699 5.53787178 5.91310394 6.33192747\n",
      "  6.907208   7.03013259 7.86962356 5.78048627 7.38168908 6.63868448\n",
      "  7.7220115 ]\n",
      " [3.87467303 3.2154965  4.66640892 3.0048596  3.16621389 4.17102519\n",
      "  5.15535126 3.22663998 5.15295978 5.34084309 4.01583609 4.29623739\n",
      "  3.65892034 3.86831833 4.25512395 3.85606313 4.39746183 4.49720997\n",
      "  4.57819563 4.27373606 5.19665755 2.90335255 4.96964762 3.95162806\n",
      "  4.85065446]\n",
      " [5.29113577 4.37638139 5.35231444 4.32889147 5.6298777  4.81437186\n",
      "  5.75553132 4.24875962 6.12797317 6.76353163 4.87335933 6.42142075\n",
      "  5.67280057 5.71055923 6.1881718  5.00679691 5.86846326 5.3466493\n",
      "  6.09217341 5.57507362 6.95854843 4.99493527 5.1510834  5.28677861\n",
      "  6.56153716]\n",
      " [4.89641554 3.62331648 4.93543249 3.23857914 4.30818594 4.97607342\n",
      "  5.98543814 5.05585921 5.85575866 6.056945   5.12307648 5.63291466\n",
      "  5.20363735 4.49623793 5.14825557 3.79931462 5.47555257 5.59719998\n",
      "  5.13215409 4.41681689 5.80273622 3.96873957 5.01009861 4.42701022\n",
      "  5.95370304]\n",
      " [5.14158788 4.13500498 5.4061606  4.22657832 5.98112573 5.02228301\n",
      "  5.41370334 4.94259098 5.86315158 6.24880452 4.78458825 6.19911782\n",
      "  6.0297439  5.26211183 5.26410539 4.61656493 4.88274607 5.37095098\n",
      "  4.97035378 4.49797591 5.91955661 5.06787413 4.77606732 5.1463155\n",
      "  6.26419571]\n",
      " [4.41143697 3.53107812 4.3199015  3.64161471 4.84970913 4.49884386\n",
      "  4.62399052 4.3048421  5.30481377 5.42977746 4.09118727 4.88886545\n",
      "  5.07234282 4.55987103 4.40714721 3.88400056 4.4276579  5.27910735\n",
      "  4.24123034 4.14175073 5.00185713 4.42637649 4.26206146 4.32273047\n",
      "  5.22948171]\n",
      " [5.08436139 4.59035961 5.4350907  4.78859146 5.71017832 5.86146347\n",
      "  5.6042999  4.5077681  6.28210051 7.10063187 5.36475272 5.9540792\n",
      "  5.50037648 5.27979717 5.83987579 5.12737443 5.84614345 6.18596149\n",
      "  5.66416433 6.08664921 6.33878908 4.60253258 5.95526494 4.91486361\n",
      "  6.03283377]]\n"
     ]
    }
   ],
   "source": [
    "# Create a numpy array A of shape(10,20) and B of shape (20,25) using np.random. Print the matrix which is the matrix multiplication of A and B. The shape of the new matrix should be (10,25). Using basic numpy math functions only find the sum of all the elements of the new matrix.\n",
    "\n",
    "A = np.random.rand(10,20)\n",
    "B = np.random.rand(20,25)\n",
    "\n",
    "C = np.matmul(A,B)\n",
    "print(C)"
   ]
  },
  {
   "cell_type": "code",
   "execution_count": 14,
   "metadata": {},
   "outputs": [
    {
     "data": {
      "text/plain": [
       "1304.7842980360485"
      ]
     },
     "execution_count": 14,
     "metadata": {},
     "output_type": "execute_result"
    }
   ],
   "source": [
    "np.sum(C)"
   ]
  },
  {
   "cell_type": "code",
   "execution_count": 28,
   "metadata": {},
   "outputs": [
    {
     "name": "stdout",
     "output_type": "stream",
     "text": [
      "[[0.55784014]\n",
      " [0.27935915]\n",
      " [0.93013335]\n",
      " [0.35968878]\n",
      " [0.54837057]\n",
      " [0.81986775]\n",
      " [0.08552129]\n",
      " [0.54495418]\n",
      " [0.5116074 ]\n",
      " [0.77724183]]\n",
      "[[0.63595264]\n",
      " [0.5693891 ]\n",
      " [0.71710234]\n",
      " [0.5889651 ]\n",
      " [0.63375747]\n",
      " [0.69420827]\n",
      " [0.5213673 ]\n",
      " [0.63296413]\n",
      " [0.62518321]\n",
      " [0.68508536]]\n"
     ]
    }
   ],
   "source": [
    "# Create a numpy array A of shape(10,1).Using the basic operations of the numpy array generate an array of shape(10,1) such that each element is the following function applied on each element of A. \n",
    "\n",
    "#f(x)=1 / (1 + exp(-x)) \n",
    "#Apply this function to each element of A and print the new array holding the value the function returns\n",
    "#Example:\n",
    "\n",
    "#a=[a1,a2,a3]   \n",
    "#n(new array to be printed )=[ f(a1), f(a2), f(a3)]\n",
    "\n",
    "A = np.random.rand(10,1)\n",
    "print (A)\n",
    "\n",
    "def func(x):\n",
    "    return (1 / (1 + np.exp(-x)))\n",
    "    \n",
    "function = np.apply_along_axis(func, 0, A)\n",
    "print(function)"
   ]
  },
  {
   "cell_type": "code",
   "execution_count": null,
   "metadata": {},
   "outputs": [],
   "source": []
  }
 ],
 "metadata": {
  "kernelspec": {
   "display_name": "Python 2",
   "language": "python",
   "name": "python2"
  },
  "language_info": {
   "codemirror_mode": {
    "name": "ipython",
    "version": 2
   },
   "file_extension": ".py",
   "mimetype": "text/x-python",
   "name": "python",
   "nbconvert_exporter": "python",
   "pygments_lexer": "ipython2",
   "version": "2.7.15"
  }
 },
 "nbformat": 4,
 "nbformat_minor": 2
}
