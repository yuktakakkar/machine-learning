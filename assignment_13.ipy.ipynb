{
 "cells": [
  {
   "cell_type": "code",
   "execution_count": 1,
   "metadata": {},
   "outputs": [],
   "source": [
    "#Q1. Load the dataset from sklearn \n",
    "import numpy as np\n",
    "import pandas as pd\n",
    "from sklearn.model_selection import train_test_split\n",
    "from sklearn.datasets import load_digits\n",
    "digits = load_digits()\n",
    "feature = pd.DataFrame(digits.data)\n",
    "target = pd.DataFrame(digits.target)\n",
    "X = feature\n",
    "Y = target"
   ]
  },
  {
   "cell_type": "code",
   "execution_count": 2,
   "metadata": {},
   "outputs": [
    {
     "name": "stdout",
     "output_type": "stream",
     "text": [
      "(1203, 64)\n",
      "(1203, 1)\n",
      "(594, 64)\n",
      "(594, 1)\n"
     ]
    }
   ],
   "source": [
    "#Q2. Split the dataset into training and testing sets using train_test_split()\n",
    "X_train, X_test, Y_train, Y_test = train_test_split(X, Y, test_size=0.33, random_state=42)\n",
    "print(X_train.shape)\n",
    "print(Y_train.shape)\n",
    "print(X_test.shape)\n",
    "print(Y_test.shape)"
   ]
  },
  {
   "cell_type": "code",
   "execution_count": 3,
   "metadata": {},
   "outputs": [
    {
     "name": "stdout",
     "output_type": "stream",
     "text": [
      "kernel = 'linear'\n",
      "\n",
      "('Confusion Matrix:\\n', array([[55,  0,  0,  0,  0,  0,  0,  0,  0,  0],\n",
      "       [ 0, 53,  0,  0,  1,  0,  0,  0,  1,  0],\n",
      "       [ 0,  0, 52,  0,  0,  0,  0,  0,  0,  0],\n",
      "       [ 0,  0,  0, 54,  0,  1,  0,  0,  1,  0],\n",
      "       [ 0,  0,  0,  0, 64,  0,  0,  0,  0,  0],\n",
      "       [ 0,  0,  0,  0,  0, 71,  0,  1,  0,  1],\n",
      "       [ 0,  0,  0,  0,  0,  0, 57,  0,  0,  0],\n",
      "       [ 0,  0,  0,  0,  0,  0,  0, 61,  0,  1],\n",
      "       [ 0,  1,  0,  1,  0,  1,  0,  0, 49,  0],\n",
      "       [ 0,  0,  0,  0,  1,  0,  0,  0,  1, 66]], dtype=int64))\n",
      "('\\n\\nClassification Report:\\n', u'             precision    recall  f1-score   support\\n\\n          0       1.00      1.00      1.00        55\\n          1       0.98      0.96      0.97        55\\n          2       1.00      1.00      1.00        52\\n          3       0.98      0.96      0.97        56\\n          4       0.97      1.00      0.98        64\\n          5       0.97      0.97      0.97        73\\n          6       1.00      1.00      1.00        57\\n          7       0.98      0.98      0.98        62\\n          8       0.94      0.94      0.94        52\\n          9       0.97      0.97      0.97        68\\n\\navg / total       0.98      0.98      0.98       594\\n')\n"
     ]
    },
    {
     "name": "stderr",
     "output_type": "stream",
     "text": [
      "C:\\Users\\kakkaryukta\\Anaconda2\\lib\\site-packages\\sklearn\\utils\\validation.py:578: DataConversionWarning: A column-vector y was passed when a 1d array was expected. Please change the shape of y to (n_samples, ), for example using ravel().\n",
      "  y = column_or_1d(y, warn=True)\n"
     ]
    }
   ],
   "source": [
    "'''\n",
    " Q3. Use SVM with kernels\n",
    "        a. Linear\n",
    "        b. Poly\n",
    "        c. Gaussian\n",
    "        d. Sigmoid\n",
    "    For every kernel, print the following:\n",
    "        a. Confusion Matrix\n",
    "        b. Classification Report\n",
    "'''\n",
    "from sklearn.svm import SVC\n",
    "from sklearn.metrics import classification_report,confusion_matrix\n",
    "svclassifier = SVC(kernel='linear', degree=8)  \n",
    "svclassifier.fit(X_train, Y_train) \n",
    "Y_predict1 = svclassifier.predict(X_test)\n",
    "print (\"kernel = 'linear'\\n\")\n",
    "print (\"Confusion Matrix:\\n\",confusion_matrix(Y_test, Y_predict1))\n",
    "print (\"\\n\\nClassification Report:\\n\", classification_report(Y_test, Y_predict1))"
   ]
  },
  {
   "cell_type": "code",
   "execution_count": 4,
   "metadata": {},
   "outputs": [
    {
     "name": "stdout",
     "output_type": "stream",
     "text": [
      "kernel = poly\n",
      "\n",
      "('Confusion Matrix:\\n', array([[55,  0,  0,  0,  0,  0,  0,  0,  0,  0],\n",
      "       [ 0, 50,  1,  0,  0,  0,  0,  0,  4,  0],\n",
      "       [ 0,  0, 52,  0,  0,  0,  0,  0,  0,  0],\n",
      "       [ 0,  0,  0, 54,  0,  1,  0,  0,  1,  0],\n",
      "       [ 0,  0,  0,  0, 64,  0,  0,  0,  0,  0],\n",
      "       [ 0,  0,  0,  0,  1, 72,  0,  0,  0,  0],\n",
      "       [ 0,  0,  0,  0,  0,  0, 57,  0,  0,  0],\n",
      "       [ 0,  0,  0,  0,  0,  0,  0, 61,  0,  1],\n",
      "       [ 0,  3,  0,  0,  0,  0,  0,  0, 48,  1],\n",
      "       [ 0,  0,  0,  2,  1,  0,  0,  0,  0, 65]], dtype=int64))\n",
      "('\\n\\nClassification Report:\\n', u'             precision    recall  f1-score   support\\n\\n          0       1.00      1.00      1.00        55\\n          1       0.94      0.91      0.93        55\\n          2       0.98      1.00      0.99        52\\n          3       0.96      0.96      0.96        56\\n          4       0.97      1.00      0.98        64\\n          5       0.99      0.99      0.99        73\\n          6       1.00      1.00      1.00        57\\n          7       1.00      0.98      0.99        62\\n          8       0.91      0.92      0.91        52\\n          9       0.97      0.96      0.96        68\\n\\navg / total       0.97      0.97      0.97       594\\n')\n"
     ]
    }
   ],
   "source": [
    "svclassifier = SVC(kernel='poly', degree=8)  \n",
    "svclassifier.fit(X_train, Y_train) \n",
    "Y_predict2 = svclassifier.predict(X_test)\n",
    "print(\"kernel = poly\\n\")\n",
    "print(\"Confusion Matrix:\\n\",confusion_matrix(Y_test, Y_predict2))\n",
    "print(\"\\n\\nClassification Report:\\n\", classification_report(Y_test, Y_predict2))"
   ]
  },
  {
   "cell_type": "code",
   "execution_count": 5,
   "metadata": {},
   "outputs": [
    {
     "name": "stdout",
     "output_type": "stream",
     "text": [
      "\n",
      "kernel =rbf\n",
      "\n",
      "('Confusion Matrix:\\n', array([[26,  0,  0, 29,  0,  0,  0,  0,  0,  0],\n",
      "       [ 0, 23,  0, 32,  0,  0,  0,  0,  0,  0],\n",
      "       [ 0,  0, 34, 18,  0,  0,  0,  0,  0,  0],\n",
      "       [ 0,  0,  0, 56,  0,  0,  0,  0,  0,  0],\n",
      "       [ 0,  0,  0, 44, 20,  0,  0,  0,  0,  0],\n",
      "       [ 0,  0,  0, 72,  0,  1,  0,  0,  0,  0],\n",
      "       [ 0,  0,  0, 17,  0,  0, 40,  0,  0,  0],\n",
      "       [ 0,  0,  0, 42,  0,  0,  0, 20,  0,  0],\n",
      "       [ 0,  0,  0, 37,  0,  0,  0,  0, 15,  0],\n",
      "       [ 0,  0,  0, 65,  0,  0,  0,  0,  0,  3]], dtype=int64))\n",
      "('\\n\\nClassification Report:\\n', u'             precision    recall  f1-score   support\\n\\n          0       1.00      0.47      0.64        55\\n          1       1.00      0.42      0.59        55\\n          2       1.00      0.65      0.79        52\\n          3       0.14      1.00      0.24        56\\n          4       1.00      0.31      0.48        64\\n          5       1.00      0.01      0.03        73\\n          6       1.00      0.70      0.82        57\\n          7       1.00      0.32      0.49        62\\n          8       1.00      0.29      0.45        52\\n          9       1.00      0.04      0.08        68\\n\\navg / total       0.92      0.40      0.44       594\\n')\n"
     ]
    }
   ],
   "source": [
    "svclassifier = SVC(kernel='rbf', degree=8)  \n",
    "svclassifier.fit(X_train, Y_train) \n",
    "Y_predict3 = svclassifier.predict(X_test)\n",
    "print(\"\\nkernel =rbf\\n\")\n",
    "print(\"Confusion Matrix:\\n\",confusion_matrix(Y_test, Y_predict3))\n",
    "print(\"\\n\\nClassification Report:\\n\", classification_report(Y_test, Y_predict3))"
   ]
  },
  {
   "cell_type": "code",
   "execution_count": 6,
   "metadata": {},
   "outputs": [
    {
     "name": "stdout",
     "output_type": "stream",
     "text": [
      "kernel = 'sigmoid'\n",
      "\n",
      "('Confusion Matrix:\\n', array([[ 0,  0,  0, 55,  0,  0,  0,  0,  0,  0],\n",
      "       [ 0,  0,  0, 55,  0,  0,  0,  0,  0,  0],\n",
      "       [ 0,  0,  0, 52,  0,  0,  0,  0,  0,  0],\n",
      "       [ 0,  0,  0, 56,  0,  0,  0,  0,  0,  0],\n",
      "       [ 0,  2,  0, 62,  0,  0,  0,  0,  0,  0],\n",
      "       [ 0,  0,  0, 73,  0,  0,  0,  0,  0,  0],\n",
      "       [ 0,  2,  0, 55,  0,  0,  0,  0,  0,  0],\n",
      "       [ 0,  0,  0, 62,  0,  0,  0,  0,  0,  0],\n",
      "       [ 0,  0,  0, 52,  0,  0,  0,  0,  0,  0],\n",
      "       [ 0,  0,  0, 68,  0,  0,  0,  0,  0,  0]], dtype=int64))\n",
      "('\\n\\nClassification Report:\\n', u'             precision    recall  f1-score   support\\n\\n          0       0.00      0.00      0.00        55\\n          1       0.00      0.00      0.00        55\\n          2       0.00      0.00      0.00        52\\n          3       0.09      1.00      0.17        56\\n          4       0.00      0.00      0.00        64\\n          5       0.00      0.00      0.00        73\\n          6       0.00      0.00      0.00        57\\n          7       0.00      0.00      0.00        62\\n          8       0.00      0.00      0.00        52\\n          9       0.00      0.00      0.00        68\\n\\navg / total       0.01      0.09      0.02       594\\n')\n"
     ]
    },
    {
     "name": "stderr",
     "output_type": "stream",
     "text": [
      "C:\\Users\\kakkaryukta\\Anaconda2\\lib\\site-packages\\sklearn\\metrics\\classification.py:1135: UndefinedMetricWarning: Precision and F-score are ill-defined and being set to 0.0 in labels with no predicted samples.\n",
      "  'precision', 'predicted', average, warn_for)\n"
     ]
    }
   ],
   "source": [
    "svclassifier = SVC(kernel='sigmoid', degree=8)  \n",
    "svclassifier.fit(X_train, Y_train) \n",
    "Y_predict4 = svclassifier.predict(X_test)\n",
    "print(\"kernel = 'sigmoid'\\n\")\n",
    "print(\"Confusion Matrix:\\n\",confusion_matrix(Y_test, Y_predict4))\n",
    "print(\"\\n\\nClassification Report:\\n\", classification_report(Y_test, Y_predict4))"
   ]
  },
  {
   "cell_type": "code",
   "execution_count": null,
   "metadata": {},
   "outputs": [],
   "source": []
  }
 ],
 "metadata": {
  "kernelspec": {
   "display_name": "Python 2",
   "language": "python",
   "name": "python2"
  },
  "language_info": {
   "codemirror_mode": {
    "name": "ipython",
    "version": 2
   },
   "file_extension": ".py",
   "mimetype": "text/x-python",
   "name": "python",
   "nbconvert_exporter": "python",
   "pygments_lexer": "ipython2",
   "version": "2.7.15"
  }
 },
 "nbformat": 4,
 "nbformat_minor": 2
}
