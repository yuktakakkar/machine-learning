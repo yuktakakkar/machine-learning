{
 "cells": [
  {
   "cell_type": "code",
   "execution_count": 5,
   "metadata": {},
   "outputs": [
    {
     "name": "stdout",
     "output_type": "stream",
     "text": [
      "((178L, 13L), (178L,))\n"
     ]
    }
   ],
   "source": [
    "#Q1. Load the dataset from sklearn. Store the data and target values in variables. \n",
    "import numpy as np\n",
    "import pandas as pd\n",
    "import matplotlib.pyplot as plt\n",
    "from sklearn.metrics import accuracy_score\n",
    "from sklearn.datasets import load_wine\n",
    "wine=load_wine()\n",
    "x=(wine.data)\n",
    "y=(wine.target)\n",
    "print(x.shape,y.shape)"
   ]
  },
  {
   "cell_type": "code",
   "execution_count": 6,
   "metadata": {},
   "outputs": [
    {
     "name": "stdout",
     "output_type": "stream",
     "text": [
      "0.9722222222222222\n"
     ]
    }
   ],
   "source": [
    "'''\n",
    " Q2. Perform the following ensemble methods and print the accuracy:\n",
    "       - Bagged Decision Trees\n",
    "       - Random Forest Classification\n",
    "       - Stochastic Gradient Boosting Classification\n",
    "       - Voting Ensemble (Decision Tree, Logistic Regression, SVM)\n",
    "'''\n",
    "from sklearn.model_selection import train_test_split\n",
    "from sklearn.ensemble import BaggingClassifier\n",
    "from sklearn import tree\n",
    "x_train , x_test , y_train , y_test = train_test_split(x ,y ,test_size = 0.4 , random_state=40)\n",
    "dtc=tree.DecisionTreeClassifier()\n",
    "num=100\n",
    "model1=BaggingClassifier(base_estimator=dtc)\n",
    "model1.fit(x_train,y_train)\n",
    "pred=model1.predict(x_test)\n",
    "from sklearn import metrics\n",
    "print(metrics.accuracy_score(y_test,pred))"
   ]
  },
  {
   "cell_type": "code",
   "execution_count": 10,
   "metadata": {},
   "outputs": [
    {
     "name": "stdout",
     "output_type": "stream",
     "text": [
      "0.9166666666666666\n"
     ]
    }
   ],
   "source": [
    "from sklearn.ensemble import RandomForestClassifier\n",
    "rf = RandomForestClassifier(n_estimators = 10)\n",
    "rf.fit(x_train ,y_train)\n",
    "pred1=rf.predict(x_test)\n",
    "print(metrics.accuracy_score(y_test,pred1))"
   ]
  },
  {
   "cell_type": "code",
   "execution_count": 11,
   "metadata": {},
   "outputs": [
    {
     "name": "stdout",
     "output_type": "stream",
     "text": [
      "0.9027777777777778\n"
     ]
    }
   ],
   "source": [
    "from sklearn.ensemble import GradientBoostingClassifier\n",
    "gb = GradientBoostingClassifier( n_estimators =10)\n",
    "gb.fit(x_train, y_train)\n",
    "pred2=gb.predict(x_test)\n",
    "print(metrics.accuracy_score(y_test,pred2))"
   ]
  },
  {
   "cell_type": "code",
   "execution_count": 12,
   "metadata": {},
   "outputs": [
    {
     "name": "stdout",
     "output_type": "stream",
     "text": [
      "0.9027777777777778\n"
     ]
    }
   ],
   "source": [
    "from sklearn.ensemble import VotingClassifier\n",
    "from sklearn.linear_model import LogisticRegression\n",
    "from sklearn.tree import DecisionTreeClassifier\n",
    "from sklearn.svm import SVC\n",
    "lr = LogisticRegression()\n",
    "svm = SVC()\n",
    "dtc = DecisionTreeClassifier()\n",
    "vc = VotingClassifier(estimators = [('lr',lr), ('svm' ,svm), ('dtc',dtc)], voting = 'hard')\n",
    "vc.fit(x_train ,y_train)\n",
    "pred3=gb.predict(x_test)\n",
    "print(metrics.accuracy_score(y_test,pred3))"
   ]
  },
  {
   "cell_type": "code",
   "execution_count": null,
   "metadata": {},
   "outputs": [],
   "source": []
  }
 ],
 "metadata": {
  "kernelspec": {
   "display_name": "Python 2",
   "language": "python",
   "name": "python2"
  },
  "language_info": {
   "codemirror_mode": {
    "name": "ipython",
    "version": 2
   },
   "file_extension": ".py",
   "mimetype": "text/x-python",
   "name": "python",
   "nbconvert_exporter": "python",
   "pygments_lexer": "ipython2",
   "version": "2.7.15"
  }
 },
 "nbformat": 4,
 "nbformat_minor": 2
}
