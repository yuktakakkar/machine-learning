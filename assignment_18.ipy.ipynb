{
 "cells": [
  {
   "cell_type": "code",
   "execution_count": 1,
   "metadata": {},
   "outputs": [
    {
     "name": "stdout",
     "output_type": "stream",
     "text": [
      "F = (b+c)*(a-1)\n"
     ]
    }
   ],
   "source": [
    "import math\n",
    "print('F = (b+c)*(a-1)')"
   ]
  },
  {
   "cell_type": "code",
   "execution_count": 2,
   "metadata": {},
   "outputs": [
    {
     "name": "stdout",
     "output_type": "stream",
     "text": [
      "21.3408\n"
     ]
    }
   ],
   "source": [
    "weight_1 =  2.7\n",
    "weight_2 =  -8.6\n",
    "weight_3 =  0.002\n",
    "b1 = -0.06\n",
    "b2 = -2.5\n",
    "b3 = 1.4\n",
    "x = (weight_1 * b1) + (weight_2 * b2) + (weight_3 * b3)\n",
    "print(x)"
   ]
  },
  {
   "cell_type": "code",
   "execution_count": 3,
   "metadata": {},
   "outputs": [
    {
     "name": "stdout",
     "output_type": "stream",
     "text": [
      "0.999999999461\n"
     ]
    }
   ],
   "source": [
    "fx = 1 / (1 + math.exp(-x))\n",
    "print(fx)"
   ]
  },
  {
   "cell_type": "code",
   "execution_count": 4,
   "metadata": {},
   "outputs": [
    {
     "name": "stdout",
     "output_type": "stream",
     "text": [
      "20.2408\n"
     ]
    }
   ],
   "source": [
    "bias = -1.1\n",
    "x_b = (weight_1 * b1) + (weight_2 * b2) + (weight_3 * b3) + bias\n",
    "print(x_b)"
   ]
  },
  {
   "cell_type": "code",
   "execution_count": 5,
   "metadata": {},
   "outputs": [
    {
     "name": "stdout",
     "output_type": "stream",
     "text": [
      "0.99999999838\n"
     ]
    }
   ],
   "source": [
    "ex = math.exp(-x_b)\n",
    "f_bx = 1/(1+ex)\n",
    "print(f_bx)"
   ]
  },
  {
   "cell_type": "code",
   "execution_count": 6,
   "metadata": {},
   "outputs": [
    {
     "name": "stdout",
     "output_type": "stream",
     "text": [
      "1.08079167838e-09\n"
     ]
    }
   ],
   "source": [
    "diff = fx - f_bx\n",
    "print(diff)"
   ]
  },
  {
   "cell_type": "code",
   "execution_count": null,
   "metadata": {},
   "outputs": [],
   "source": []
  }
 ],
 "metadata": {
  "kernelspec": {
   "display_name": "Python 2",
   "language": "python",
   "name": "python2"
  },
  "language_info": {
   "codemirror_mode": {
    "name": "ipython",
    "version": 2
   },
   "file_extension": ".py",
   "mimetype": "text/x-python",
   "name": "python",
   "nbconvert_exporter": "python",
   "pygments_lexer": "ipython2",
   "version": "2.7.15"
  }
 },
 "nbformat": 4,
 "nbformat_minor": 2
}
